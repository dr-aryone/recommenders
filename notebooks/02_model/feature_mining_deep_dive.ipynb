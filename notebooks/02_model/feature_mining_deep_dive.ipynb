{
 "cells": [
  {
   "cell_type": "markdown",
   "metadata": {},
   "source": [
    "<i>Copyright (c) Microsoft Corporation. All rights reserved.</i>\n",
    "\n",
    "<i>Licensed under the MIT License.</i>"
   ]
  },
  {
   "cell_type": "code",
   "execution_count": 1,
   "metadata": {},
   "outputs": [],
   "source": [
    "%load_ext autoreload\n",
    "%autoreload 2"
   ]
  },
  {
   "cell_type": "code",
   "execution_count": 2,
   "metadata": {},
   "outputs": [],
   "source": [
    "import os\n",
    "import requests\n",
    "import sys\n",
    "sys.path.append('../..')\n",
    "\n",
    "import pandas as pd\n",
    "\n",
    "from reco_utils.dataset import movielens"
   ]
  },
  {
   "cell_type": "code",
   "execution_count": 3,
   "metadata": {},
   "outputs": [],
   "source": [
    "# TODO add Tag <Parameter>\n",
    "# Select MovieLens data size: 100k, 1m, 10m, or 20m\n",
    "MOVIELENS_DATA_SIZE = '100k'\n",
    "TOP_K = 10\n",
    "PLOT_TYPE = \"&plot=full\"  # for short version, use \"\""
   ]
  },
  {
   "cell_type": "code",
   "execution_count": 4,
   "metadata": {},
   "outputs": [],
   "source": [
    "# We cache data for later use\n",
    "DATA_DIR = os.path.join(\"data\", MOVIELENS_DATA_SIZE)\n",
    "os.makedirs(DATA_DIR, exist_ok=True)"
   ]
  },
  {
   "cell_type": "code",
   "execution_count": 5,
   "metadata": {},
   "outputs": [
    {
     "data": {
      "text/html": [
       "<div>\n",
       "<style scoped>\n",
       "    .dataframe tbody tr th:only-of-type {\n",
       "        vertical-align: middle;\n",
       "    }\n",
       "\n",
       "    .dataframe tbody tr th {\n",
       "        vertical-align: top;\n",
       "    }\n",
       "\n",
       "    .dataframe thead th {\n",
       "        text-align: right;\n",
       "    }\n",
       "</style>\n",
       "<table border=\"1\" class=\"dataframe\">\n",
       "  <thead>\n",
       "    <tr style=\"text-align: right;\">\n",
       "      <th></th>\n",
       "      <th>userID</th>\n",
       "      <th>itemID</th>\n",
       "      <th>rating</th>\n",
       "      <th>timestamp</th>\n",
       "      <th>title</th>\n",
       "      <th>genres</th>\n",
       "      <th>year</th>\n",
       "    </tr>\n",
       "  </thead>\n",
       "  <tbody>\n",
       "    <tr>\n",
       "      <th>0</th>\n",
       "      <td>196</td>\n",
       "      <td>242</td>\n",
       "      <td>3.0</td>\n",
       "      <td>881250949</td>\n",
       "      <td>Kolya</td>\n",
       "      <td>Comedy</td>\n",
       "      <td>1996</td>\n",
       "    </tr>\n",
       "    <tr>\n",
       "      <th>1</th>\n",
       "      <td>63</td>\n",
       "      <td>242</td>\n",
       "      <td>3.0</td>\n",
       "      <td>875747190</td>\n",
       "      <td>Kolya</td>\n",
       "      <td>Comedy</td>\n",
       "      <td>1996</td>\n",
       "    </tr>\n",
       "    <tr>\n",
       "      <th>2</th>\n",
       "      <td>226</td>\n",
       "      <td>242</td>\n",
       "      <td>5.0</td>\n",
       "      <td>883888671</td>\n",
       "      <td>Kolya</td>\n",
       "      <td>Comedy</td>\n",
       "      <td>1996</td>\n",
       "    </tr>\n",
       "    <tr>\n",
       "      <th>3</th>\n",
       "      <td>154</td>\n",
       "      <td>242</td>\n",
       "      <td>3.0</td>\n",
       "      <td>879138235</td>\n",
       "      <td>Kolya</td>\n",
       "      <td>Comedy</td>\n",
       "      <td>1996</td>\n",
       "    </tr>\n",
       "    <tr>\n",
       "      <th>4</th>\n",
       "      <td>306</td>\n",
       "      <td>242</td>\n",
       "      <td>5.0</td>\n",
       "      <td>876503793</td>\n",
       "      <td>Kolya</td>\n",
       "      <td>Comedy</td>\n",
       "      <td>1996</td>\n",
       "    </tr>\n",
       "  </tbody>\n",
       "</table>\n",
       "</div>"
      ],
      "text/plain": [
       "   userID  itemID  rating  timestamp  title  genres  year\n",
       "0     196     242     3.0  881250949  Kolya  Comedy  1996\n",
       "1      63     242     3.0  875747190  Kolya  Comedy  1996\n",
       "2     226     242     5.0  883888671  Kolya  Comedy  1996\n",
       "3     154     242     3.0  879138235  Kolya  Comedy  1996\n",
       "4     306     242     5.0  876503793  Kolya  Comedy  1996"
      ]
     },
     "execution_count": 5,
     "metadata": {},
     "output_type": "execute_result"
    }
   ],
   "source": [
    "data = movielens.load_pandas_df(\n",
    "    MOVIELENS_DATA_SIZE,\n",
    "    title_col='title',\n",
    "    genres_col='genres',\n",
    "    year_col='year',\n",
    "    local_cache_path=DATA_DIR,\n",
    ")\n",
    "# Remove years from title: \"Kolya (1996)\" --> \"Kolya\"\n",
    "# TODO some movies have strange title. Verify them.\n",
    "data['title'] = data['title'].apply(lambda x: x[:x.rfind(\"(\", 0)].rstrip())\n",
    "data.head()"
   ]
  },
  {
   "cell_type": "code",
   "execution_count": 6,
   "metadata": {},
   "outputs": [
    {
     "name": "stdout",
     "output_type": "stream",
     "text": [
      "Number of movies: 1682\n"
     ]
    },
    {
     "data": {
      "text/html": [
       "<div>\n",
       "<style scoped>\n",
       "    .dataframe tbody tr th:only-of-type {\n",
       "        vertical-align: middle;\n",
       "    }\n",
       "\n",
       "    .dataframe tbody tr th {\n",
       "        vertical-align: top;\n",
       "    }\n",
       "\n",
       "    .dataframe thead th {\n",
       "        text-align: right;\n",
       "    }\n",
       "</style>\n",
       "<table border=\"1\" class=\"dataframe\">\n",
       "  <thead>\n",
       "    <tr style=\"text-align: right;\">\n",
       "      <th></th>\n",
       "      <th>itemID</th>\n",
       "      <th>title</th>\n",
       "      <th>year</th>\n",
       "    </tr>\n",
       "  </thead>\n",
       "  <tbody>\n",
       "    <tr>\n",
       "      <th>0</th>\n",
       "      <td>1</td>\n",
       "      <td>Toy Story</td>\n",
       "      <td>1995</td>\n",
       "    </tr>\n",
       "    <tr>\n",
       "      <th>1</th>\n",
       "      <td>2</td>\n",
       "      <td>GoldenEye</td>\n",
       "      <td>1995</td>\n",
       "    </tr>\n",
       "    <tr>\n",
       "      <th>2</th>\n",
       "      <td>3</td>\n",
       "      <td>Four Rooms</td>\n",
       "      <td>1995</td>\n",
       "    </tr>\n",
       "    <tr>\n",
       "      <th>3</th>\n",
       "      <td>4</td>\n",
       "      <td>Get Shorty</td>\n",
       "      <td>1995</td>\n",
       "    </tr>\n",
       "    <tr>\n",
       "      <th>4</th>\n",
       "      <td>5</td>\n",
       "      <td>Copycat</td>\n",
       "      <td>1995</td>\n",
       "    </tr>\n",
       "  </tbody>\n",
       "</table>\n",
       "</div>"
      ],
      "text/plain": [
       "   itemID       title  year\n",
       "0       1   Toy Story  1995\n",
       "1       2   GoldenEye  1995\n",
       "2       3  Four Rooms  1995\n",
       "3       4  Get Shorty  1995\n",
       "4       5     Copycat  1995"
      ]
     },
     "metadata": {},
     "output_type": "display_data"
    }
   ],
   "source": [
    "movies = (data[['itemID', 'title', 'year']]\n",
    "          .drop_duplicates()\n",
    "          .sort_values(by='itemID')\n",
    "          .reset_index(drop=True))\n",
    "print(\"Number of movies:\", len(movies))\n",
    "display(movies.head())"
   ]
  },
  {
   "cell_type": "markdown",
   "metadata": {},
   "source": [
    "We grab movie info from http://www.omdbapi.com/   (1,000 daily limit)\n",
    "TODO: Check w/ CELA for copyright"
   ]
  },
  {
   "cell_type": "code",
   "execution_count": 7,
   "metadata": {},
   "outputs": [],
   "source": [
    "OMDb_URL = \"http://www.omdbapi.com/?i=tt3896198&apikey=f4ab835f&t={0}&y={1}{2}\"\n",
    "\n",
    "# First 900 movies (0 to 899)\n",
    "# movie_desc = [\n",
    "#     requests.get(OMDb_URL.format(m.title, m.year, PLOT_TYPE)).json() for _, m in movies[:900].iterrows()\n",
    "# ]\n",
    "\n",
    "# Remaining movies (999 to end)\n",
    "movie_desc = [\n",
    "    requests.get(OMDb_URL.format(m.title, m.year, PLOT_TYPE)).json() for _, m in movies[900:].iterrows()\n",
    "]"
   ]
  },
  {
   "cell_type": "code",
   "execution_count": 8,
   "metadata": {},
   "outputs": [
    {
     "data": {
      "text/plain": [
       "782"
      ]
     },
     "execution_count": 8,
     "metadata": {},
     "output_type": "execute_result"
    }
   ],
   "source": [
    "len(movie_desc)"
   ]
  },
  {
   "cell_type": "code",
   "execution_count": 9,
   "metadata": {},
   "outputs": [
    {
     "data": {
      "text/plain": [
       "{'Title': 'Mr. Magoo',\n",
       " 'Year': '1997',\n",
       " 'Rated': 'PG',\n",
       " 'Released': '25 Dec 1997',\n",
       " 'Runtime': '87 min',\n",
       " 'Genre': 'Adventure, Comedy, Family',\n",
       " 'Director': 'Stanley Tong',\n",
       " 'Writer': 'Pat Proft, Tom Sherohman',\n",
       " 'Actors': 'Leslie Nielsen, Kelly Lynch, Matt Keeslar, Nick Chinlund',\n",
       " 'Plot': 'Mr.Magoo is an eccentric millionaire with very bad eyesight who refuses to use eyeglasses and therefore always gets into trouble. During the museum robbery he accidentally gets a priceless gem called the Star of Kurdistan, and begins to trace the way for the arch-criminals whose idea was to steal the gem - Austin Cloquet and Ortega \"The Piranha\" Peru, while two federal agents Stupak and Anders lead the manhunt for Mr.Magoo himself.',\n",
       " 'Language': 'English',\n",
       " 'Country': 'USA',\n",
       " 'Awards': '2 nominations.',\n",
       " 'Poster': 'https://m.media-amazon.com/images/M/MV5BODFiOWY2OTctMzBlNi00MjhhLTg4MWQtMTI5YTUzZTI2N2E1XkEyXkFqcGdeQXVyNTUyMzE4Mzg@._V1_SX300.jpg',\n",
       " 'Ratings': [{'Source': 'Internet Movie Database', 'Value': '3.9/10'},\n",
       "  {'Source': 'Rotten Tomatoes', 'Value': '7%'},\n",
       "  {'Source': 'Metacritic', 'Value': '18/100'}],\n",
       " 'Metascore': '18',\n",
       " 'imdbRating': '3.9',\n",
       " 'imdbVotes': '13,369',\n",
       " 'imdbID': 'tt0119718',\n",
       " 'Type': 'movie',\n",
       " 'DVD': '17 Jul 2001',\n",
       " 'BoxOffice': 'N/A',\n",
       " 'Production': 'Walt Disney Productions',\n",
       " 'Website': 'N/A',\n",
       " 'Response': 'True'}"
      ]
     },
     "execution_count": 9,
     "metadata": {},
     "output_type": "execute_result"
    }
   ],
   "source": [
    "movie_desc[0]"
   ]
  },
  {
   "cell_type": "code",
   "execution_count": 10,
   "metadata": {},
   "outputs": [],
   "source": [
    "import pickle\n",
    "\n",
    "with open('movie_901.pkl', 'wb') as f:\n",
    "    pickle.dump(movie_desc, f)"
   ]
  },
  {
   "cell_type": "code",
   "execution_count": 11,
   "metadata": {},
   "outputs": [
    {
     "data": {
      "text/plain": [
       "{'Title': 'Toy Story',\n",
       " 'Year': '1995',\n",
       " 'Rated': 'G',\n",
       " 'Released': '22 Nov 1995',\n",
       " 'Runtime': '81 min',\n",
       " 'Genre': 'Animation, Adventure, Comedy, Family, Fantasy',\n",
       " 'Director': 'John Lasseter',\n",
       " 'Writer': 'John Lasseter (original story by), Pete Docter (original story by), Andrew Stanton (original story by), Joe Ranft (original story by), Joss Whedon (screenplay by), Andrew Stanton (screenplay by), Joel Cohen (screenplay by), Alec Sokolow (screenplay by)',\n",
       " 'Actors': 'Tom Hanks, Tim Allen, Don Rickles, Jim Varney',\n",
       " 'Plot': 'A little boy named Andy loves to be in his room, playing with his toys, especially his doll named \"Woody\". But, what do the toys do when Andy is not with them, they come to life. Woody believes that he has life (as a toy) good. However, he must worry about Andy\\'s family moving, and what Woody does not know is about Andy\\'s birthday party. Woody does not realize that Andy\\'s mother gave him an action figure known as Buzz Lightyear, who does not believe that he is a toy, and quickly becomes Andy\\'s new favorite toy. Woody, who is now consumed with jealousy, tries to get rid of Buzz. Then, both Woody and Buzz are now lost. They must find a way to get back to Andy before he moves without them, but they will have to pass through a ruthless toy killer, Sid Phillips.',\n",
       " 'Language': 'English',\n",
       " 'Country': 'USA',\n",
       " 'Awards': 'Nominated for 3 Oscars. Another 23 wins & 17 nominations.',\n",
       " 'Poster': 'https://m.media-amazon.com/images/M/MV5BMDU2ZWJlMjktMTRhMy00ZTA5LWEzNDgtYmNmZTEwZTViZWJkXkEyXkFqcGdeQXVyNDQ2OTk4MzI@._V1_SX300.jpg',\n",
       " 'Ratings': [{'Source': 'Internet Movie Database', 'Value': '8.3/10'},\n",
       "  {'Source': 'Rotten Tomatoes', 'Value': '100%'},\n",
       "  {'Source': 'Metacritic', 'Value': '95/100'}],\n",
       " 'Metascore': '95',\n",
       " 'imdbRating': '8.3',\n",
       " 'imdbVotes': '783,232',\n",
       " 'imdbID': 'tt0114709',\n",
       " 'Type': 'movie',\n",
       " 'DVD': '20 Mar 2001',\n",
       " 'BoxOffice': 'N/A',\n",
       " 'Production': 'Buena Vista',\n",
       " 'Website': 'http://www.disney.com/ToyStory',\n",
       " 'Response': 'True'}"
      ]
     },
     "execution_count": 11,
     "metadata": {},
     "output_type": "execute_result"
    }
   ],
   "source": [
    "with open('movie_900.pkl','rb') as f:\n",
    "     first_900 = pickle.load(f)\n",
    "\n",
    "first_900[0]"
   ]
  },
  {
   "cell_type": "code",
   "execution_count": 16,
   "metadata": {},
   "outputs": [
    {
     "data": {
      "text/plain": [
       "634"
      ]
     },
     "execution_count": 16,
     "metadata": {},
     "output_type": "execute_result"
    }
   ],
   "source": [
    "valid = 0\n",
    "for i in first_900:\n",
    "    if 'Title' in i:\n",
    "        valid += 1\n",
    "valid\n",
    "\n",
    "\"\"\"Note,\n",
    "Movie titles start w/ 'The' or 'A' are shifted in MovieLens dataset, e.g.\n",
    "\n",
    "Original movie title: \"The English Patient\"\n",
    "MovieLens data: \"English Patient, The\"\n",
    "\n",
    "This cause invalid movie plot query\n",
    "\"\"\""
   ]
  },
  {
   "cell_type": "code",
   "execution_count": null,
   "metadata": {},
   "outputs": [],
   "source": []
  }
 ],
 "metadata": {
  "kernelspec": {
   "display_name": "reco_gpu",
   "language": "python",
   "name": "reco_gpu"
  },
  "language_info": {
   "codemirror_mode": {
    "name": "ipython",
    "version": 3
   },
   "file_extension": ".py",
   "mimetype": "text/x-python",
   "name": "python",
   "nbconvert_exporter": "python",
   "pygments_lexer": "ipython3",
   "version": "3.6.8"
  }
 },
 "nbformat": 4,
 "nbformat_minor": 2
}
